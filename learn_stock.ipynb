{
 "cells": [
  {
   "cell_type": "code",
   "execution_count": 1,
   "outputs": [
    {
     "data": {
      "text/plain": "               开盘     收盘     最高     最低\n日期                                    \n1991-04-03  49.00  49.00  49.00  49.00\n1991-04-04  48.76  48.76  48.76  48.76\n1991-04-05  48.52  48.52  48.52  48.52\n1991-04-06  48.28  48.28  48.28  48.28\n1991-04-08  48.04  48.04  48.04  48.04\n...           ...    ...    ...    ...\n2022-05-09  14.94  14.55  14.94  14.46\n2022-05-10  14.50  14.59  14.60  14.11\n2022-05-11  14.54  14.63  14.84  14.44\n2022-05-12  14.48  14.38  14.56  14.33\n2022-05-13  14.50  14.61  14.66  14.49\n\n[7424 rows x 4 columns]",
      "text/html": "<div>\n<style scoped>\n    .dataframe tbody tr th:only-of-type {\n        vertical-align: middle;\n    }\n\n    .dataframe tbody tr th {\n        vertical-align: top;\n    }\n\n    .dataframe thead th {\n        text-align: right;\n    }\n</style>\n<table border=\"1\" class=\"dataframe\">\n  <thead>\n    <tr style=\"text-align: right;\">\n      <th></th>\n      <th>开盘</th>\n      <th>收盘</th>\n      <th>最高</th>\n      <th>最低</th>\n    </tr>\n    <tr>\n      <th>日期</th>\n      <th></th>\n      <th></th>\n      <th></th>\n      <th></th>\n    </tr>\n  </thead>\n  <tbody>\n    <tr>\n      <th>1991-04-03</th>\n      <td>49.00</td>\n      <td>49.00</td>\n      <td>49.00</td>\n      <td>49.00</td>\n    </tr>\n    <tr>\n      <th>1991-04-04</th>\n      <td>48.76</td>\n      <td>48.76</td>\n      <td>48.76</td>\n      <td>48.76</td>\n    </tr>\n    <tr>\n      <th>1991-04-05</th>\n      <td>48.52</td>\n      <td>48.52</td>\n      <td>48.52</td>\n      <td>48.52</td>\n    </tr>\n    <tr>\n      <th>1991-04-06</th>\n      <td>48.28</td>\n      <td>48.28</td>\n      <td>48.28</td>\n      <td>48.28</td>\n    </tr>\n    <tr>\n      <th>1991-04-08</th>\n      <td>48.04</td>\n      <td>48.04</td>\n      <td>48.04</td>\n      <td>48.04</td>\n    </tr>\n    <tr>\n      <th>...</th>\n      <td>...</td>\n      <td>...</td>\n      <td>...</td>\n      <td>...</td>\n    </tr>\n    <tr>\n      <th>2022-05-09</th>\n      <td>14.94</td>\n      <td>14.55</td>\n      <td>14.94</td>\n      <td>14.46</td>\n    </tr>\n    <tr>\n      <th>2022-05-10</th>\n      <td>14.50</td>\n      <td>14.59</td>\n      <td>14.60</td>\n      <td>14.11</td>\n    </tr>\n    <tr>\n      <th>2022-05-11</th>\n      <td>14.54</td>\n      <td>14.63</td>\n      <td>14.84</td>\n      <td>14.44</td>\n    </tr>\n    <tr>\n      <th>2022-05-12</th>\n      <td>14.48</td>\n      <td>14.38</td>\n      <td>14.56</td>\n      <td>14.33</td>\n    </tr>\n    <tr>\n      <th>2022-05-13</th>\n      <td>14.50</td>\n      <td>14.61</td>\n      <td>14.66</td>\n      <td>14.49</td>\n    </tr>\n  </tbody>\n</table>\n<p>7424 rows × 4 columns</p>\n</div>"
     },
     "execution_count": 1,
     "metadata": {},
     "output_type": "execute_result"
    }
   ],
   "source": [
    "# pip install --upgrade mplfinance\n",
    "from mplfinance.original_flavor import candlestick_ohlc\n",
    "import numpy as np\n",
    "import pandas as pd\n",
    "import matplotlib.pyplot as plt\n",
    "from matplotlib.dates import date2num\n",
    "\n",
    "df = pd.read_csv('./stock_data/daily/000001_daily.csv', index_col='日期', parse_dates=True,na_values=['nan', 'Nan','NaN', 'NaT', '', ''])\n",
    "df['time'] = date2num(df.index.to_pydatetime())\n",
    "df = df[[\"开盘\",\"收盘\",\"最高\",\"最低\"]]\n",
    "df"
   ],
   "metadata": {
    "collapsed": false,
    "pycharm": {
     "name": "#%%\n"
    }
   }
  },
  {
   "cell_type": "code",
   "execution_count": 26,
   "outputs": [
    {
     "data": {
      "text/plain": "               开盘     收盘     最高     最低\n日期                                    \n1991-10-08  18.70  21.40  21.40  18.60\n1991-10-09  21.50  25.95  26.25  21.50\n1991-10-11  21.80  24.00  24.00  17.95\n1991-11-12  32.50  35.85  35.90  32.50\n1991-11-19  29.40  32.50  32.50  29.00\n1992-04-13  29.75  32.95  33.80  29.75\n1992-06-17  33.45  36.90  37.15  32.30\n1994-04-29  14.30  15.99  16.00  14.00\n1994-08-03   9.70  10.80  10.85   9.70\n1994-09-05  14.45  16.09  16.25  14.45\n1994-12-15  10.19  11.30  11.85  10.15\n1996-04-26  11.80  13.98  14.30  11.80\n1996-05-31  10.00  12.25  12.40   9.94\n1997-02-20  17.03  18.87  19.62  17.03\n1998-07-21  15.11  16.68  16.70  15.01\n1999-05-26  13.86  15.32  15.32  13.70\n1999-07-20  19.00  21.14  21.14  18.88\n2006-11-21  10.74  11.83  11.83  10.48\n2008-03-20  25.68  29.00  29.39  24.61\n2009-02-23  13.48  14.99  14.99  13.41\n2009-11-02  21.90  24.73  24.73  21.80\n2013-01-14  15.49  17.09  17.09  15.49\n2014-11-28  11.27  12.44  12.44  11.18\n2015-04-10  18.00  19.80  19.80  17.85",
      "text/html": "<div>\n<style scoped>\n    .dataframe tbody tr th:only-of-type {\n        vertical-align: middle;\n    }\n\n    .dataframe tbody tr th {\n        vertical-align: top;\n    }\n\n    .dataframe thead th {\n        text-align: right;\n    }\n</style>\n<table border=\"1\" class=\"dataframe\">\n  <thead>\n    <tr style=\"text-align: right;\">\n      <th></th>\n      <th>开盘</th>\n      <th>收盘</th>\n      <th>最高</th>\n      <th>最低</th>\n    </tr>\n    <tr>\n      <th>日期</th>\n      <th></th>\n      <th></th>\n      <th></th>\n      <th></th>\n    </tr>\n  </thead>\n  <tbody>\n    <tr>\n      <th>1991-10-08</th>\n      <td>18.70</td>\n      <td>21.40</td>\n      <td>21.40</td>\n      <td>18.60</td>\n    </tr>\n    <tr>\n      <th>1991-10-09</th>\n      <td>21.50</td>\n      <td>25.95</td>\n      <td>26.25</td>\n      <td>21.50</td>\n    </tr>\n    <tr>\n      <th>1991-10-11</th>\n      <td>21.80</td>\n      <td>24.00</td>\n      <td>24.00</td>\n      <td>17.95</td>\n    </tr>\n    <tr>\n      <th>1991-11-12</th>\n      <td>32.50</td>\n      <td>35.85</td>\n      <td>35.90</td>\n      <td>32.50</td>\n    </tr>\n    <tr>\n      <th>1991-11-19</th>\n      <td>29.40</td>\n      <td>32.50</td>\n      <td>32.50</td>\n      <td>29.00</td>\n    </tr>\n    <tr>\n      <th>1992-04-13</th>\n      <td>29.75</td>\n      <td>32.95</td>\n      <td>33.80</td>\n      <td>29.75</td>\n    </tr>\n    <tr>\n      <th>1992-06-17</th>\n      <td>33.45</td>\n      <td>36.90</td>\n      <td>37.15</td>\n      <td>32.30</td>\n    </tr>\n    <tr>\n      <th>1994-04-29</th>\n      <td>14.30</td>\n      <td>15.99</td>\n      <td>16.00</td>\n      <td>14.00</td>\n    </tr>\n    <tr>\n      <th>1994-08-03</th>\n      <td>9.70</td>\n      <td>10.80</td>\n      <td>10.85</td>\n      <td>9.70</td>\n    </tr>\n    <tr>\n      <th>1994-09-05</th>\n      <td>14.45</td>\n      <td>16.09</td>\n      <td>16.25</td>\n      <td>14.45</td>\n    </tr>\n    <tr>\n      <th>1994-12-15</th>\n      <td>10.19</td>\n      <td>11.30</td>\n      <td>11.85</td>\n      <td>10.15</td>\n    </tr>\n    <tr>\n      <th>1996-04-26</th>\n      <td>11.80</td>\n      <td>13.98</td>\n      <td>14.30</td>\n      <td>11.80</td>\n    </tr>\n    <tr>\n      <th>1996-05-31</th>\n      <td>10.00</td>\n      <td>12.25</td>\n      <td>12.40</td>\n      <td>9.94</td>\n    </tr>\n    <tr>\n      <th>1997-02-20</th>\n      <td>17.03</td>\n      <td>18.87</td>\n      <td>19.62</td>\n      <td>17.03</td>\n    </tr>\n    <tr>\n      <th>1998-07-21</th>\n      <td>15.11</td>\n      <td>16.68</td>\n      <td>16.70</td>\n      <td>15.01</td>\n    </tr>\n    <tr>\n      <th>1999-05-26</th>\n      <td>13.86</td>\n      <td>15.32</td>\n      <td>15.32</td>\n      <td>13.70</td>\n    </tr>\n    <tr>\n      <th>1999-07-20</th>\n      <td>19.00</td>\n      <td>21.14</td>\n      <td>21.14</td>\n      <td>18.88</td>\n    </tr>\n    <tr>\n      <th>2006-11-21</th>\n      <td>10.74</td>\n      <td>11.83</td>\n      <td>11.83</td>\n      <td>10.48</td>\n    </tr>\n    <tr>\n      <th>2008-03-20</th>\n      <td>25.68</td>\n      <td>29.00</td>\n      <td>29.39</td>\n      <td>24.61</td>\n    </tr>\n    <tr>\n      <th>2009-02-23</th>\n      <td>13.48</td>\n      <td>14.99</td>\n      <td>14.99</td>\n      <td>13.41</td>\n    </tr>\n    <tr>\n      <th>2009-11-02</th>\n      <td>21.90</td>\n      <td>24.73</td>\n      <td>24.73</td>\n      <td>21.80</td>\n    </tr>\n    <tr>\n      <th>2013-01-14</th>\n      <td>15.49</td>\n      <td>17.09</td>\n      <td>17.09</td>\n      <td>15.49</td>\n    </tr>\n    <tr>\n      <th>2014-11-28</th>\n      <td>11.27</td>\n      <td>12.44</td>\n      <td>12.44</td>\n      <td>11.18</td>\n    </tr>\n    <tr>\n      <th>2015-04-10</th>\n      <td>18.00</td>\n      <td>19.80</td>\n      <td>19.80</td>\n      <td>17.85</td>\n    </tr>\n  </tbody>\n</table>\n</div>"
     },
     "execution_count": 26,
     "metadata": {},
     "output_type": "execute_result"
    }
   ],
   "source": [
    "# 上涨（涨停）\n",
    "df[(df['收盘']-df['开盘'])/df['开盘']>=0.1]"
   ],
   "metadata": {
    "collapsed": false,
    "pycharm": {
     "name": "#%%\n"
    }
   }
  },
  {
   "cell_type": "code",
   "execution_count": 27,
   "outputs": [
    {
     "data": {
      "text/plain": "               开盘     收盘     最高     最低\n日期                                    \n1991-08-17  15.00  15.80  15.80  14.75\n1992-03-23  21.50  21.90  22.05  21.50\n1993-05-24  28.60  27.00  28.65  26.80\n1994-07-11   8.70   8.55   8.75   8.40\n1995-05-23  11.00  10.15  11.49  10.05\n1995-09-25   8.00   7.94   8.03   7.85\n1996-05-27   9.49   9.26   9.66   9.20\n1996-12-16  16.86  16.86  16.86  16.86\n1996-12-17  15.17  15.17  16.79  15.17\n1997-08-25  21.00  22.64  22.70  21.00\n2000-11-06  15.74  15.52  15.74  15.40\n2006-06-12   7.90   7.90   7.90   7.90\n2006-06-13   7.11   7.11   7.30   7.11\n2007-06-27  31.68  32.22  33.79  31.68\n2008-10-31   8.70   8.37   8.76   8.30\n2013-06-20  11.93  11.18  11.95  11.07\n2014-06-12   9.62   9.71   9.77   9.60\n2015-04-13  17.00  16.54  17.16  16.15\n2016-06-16   8.57   8.57   8.60   8.53",
      "text/html": "<div>\n<style scoped>\n    .dataframe tbody tr th:only-of-type {\n        vertical-align: middle;\n    }\n\n    .dataframe tbody tr th {\n        vertical-align: top;\n    }\n\n    .dataframe thead th {\n        text-align: right;\n    }\n</style>\n<table border=\"1\" class=\"dataframe\">\n  <thead>\n    <tr style=\"text-align: right;\">\n      <th></th>\n      <th>开盘</th>\n      <th>收盘</th>\n      <th>最高</th>\n      <th>最低</th>\n    </tr>\n    <tr>\n      <th>日期</th>\n      <th></th>\n      <th></th>\n      <th></th>\n      <th></th>\n    </tr>\n  </thead>\n  <tbody>\n    <tr>\n      <th>1991-08-17</th>\n      <td>15.00</td>\n      <td>15.80</td>\n      <td>15.80</td>\n      <td>14.75</td>\n    </tr>\n    <tr>\n      <th>1992-03-23</th>\n      <td>21.50</td>\n      <td>21.90</td>\n      <td>22.05</td>\n      <td>21.50</td>\n    </tr>\n    <tr>\n      <th>1993-05-24</th>\n      <td>28.60</td>\n      <td>27.00</td>\n      <td>28.65</td>\n      <td>26.80</td>\n    </tr>\n    <tr>\n      <th>1994-07-11</th>\n      <td>8.70</td>\n      <td>8.55</td>\n      <td>8.75</td>\n      <td>8.40</td>\n    </tr>\n    <tr>\n      <th>1995-05-23</th>\n      <td>11.00</td>\n      <td>10.15</td>\n      <td>11.49</td>\n      <td>10.05</td>\n    </tr>\n    <tr>\n      <th>1995-09-25</th>\n      <td>8.00</td>\n      <td>7.94</td>\n      <td>8.03</td>\n      <td>7.85</td>\n    </tr>\n    <tr>\n      <th>1996-05-27</th>\n      <td>9.49</td>\n      <td>9.26</td>\n      <td>9.66</td>\n      <td>9.20</td>\n    </tr>\n    <tr>\n      <th>1996-12-16</th>\n      <td>16.86</td>\n      <td>16.86</td>\n      <td>16.86</td>\n      <td>16.86</td>\n    </tr>\n    <tr>\n      <th>1996-12-17</th>\n      <td>15.17</td>\n      <td>15.17</td>\n      <td>16.79</td>\n      <td>15.17</td>\n    </tr>\n    <tr>\n      <th>1997-08-25</th>\n      <td>21.00</td>\n      <td>22.64</td>\n      <td>22.70</td>\n      <td>21.00</td>\n    </tr>\n    <tr>\n      <th>2000-11-06</th>\n      <td>15.74</td>\n      <td>15.52</td>\n      <td>15.74</td>\n      <td>15.40</td>\n    </tr>\n    <tr>\n      <th>2006-06-12</th>\n      <td>7.90</td>\n      <td>7.90</td>\n      <td>7.90</td>\n      <td>7.90</td>\n    </tr>\n    <tr>\n      <th>2006-06-13</th>\n      <td>7.11</td>\n      <td>7.11</td>\n      <td>7.30</td>\n      <td>7.11</td>\n    </tr>\n    <tr>\n      <th>2007-06-27</th>\n      <td>31.68</td>\n      <td>32.22</td>\n      <td>33.79</td>\n      <td>31.68</td>\n    </tr>\n    <tr>\n      <th>2008-10-31</th>\n      <td>8.70</td>\n      <td>8.37</td>\n      <td>8.76</td>\n      <td>8.30</td>\n    </tr>\n    <tr>\n      <th>2013-06-20</th>\n      <td>11.93</td>\n      <td>11.18</td>\n      <td>11.95</td>\n      <td>11.07</td>\n    </tr>\n    <tr>\n      <th>2014-06-12</th>\n      <td>9.62</td>\n      <td>9.71</td>\n      <td>9.77</td>\n      <td>9.60</td>\n    </tr>\n    <tr>\n      <th>2015-04-13</th>\n      <td>17.00</td>\n      <td>16.54</td>\n      <td>17.16</td>\n      <td>16.15</td>\n    </tr>\n    <tr>\n      <th>2016-06-16</th>\n      <td>8.57</td>\n      <td>8.57</td>\n      <td>8.60</td>\n      <td>8.53</td>\n    </tr>\n  </tbody>\n</table>\n</div>"
     },
     "execution_count": 27,
     "metadata": {},
     "output_type": "execute_result"
    }
   ],
   "source": [
    "# 下跌（跌停）\n",
    "df[(df['开盘']-df['收盘'].shift(1))/df['收盘'].shift(1)<=-0.1]"
   ],
   "metadata": {
    "collapsed": false,
    "pycharm": {
     "name": "#%%\n"
    }
   }
  },
  {
   "cell_type": "code",
   "execution_count": 28,
   "outputs": [
    {
     "data": {
      "text/plain": "               开盘     收盘     最高     最低     ma5       ma30\n日期                                                       \n1991-04-03  49.00  49.00  49.00  49.00     NaN        NaN\n1991-04-04  48.76  48.76  48.76  48.76     NaN        NaN\n1991-04-05  48.52  48.52  48.52  48.52     NaN        NaN\n1991-04-06  48.28  48.28  48.28  48.28     NaN        NaN\n1991-04-08  48.04  48.04  48.04  48.04  48.520        NaN\n...           ...    ...    ...    ...     ...        ...\n2022-05-09  14.94  14.55  14.94  14.46  15.284  15.482333\n2022-05-10  14.50  14.59  14.60  14.11  15.070  15.479333\n2022-05-11  14.54  14.63  14.84  14.44  14.840  15.460333\n2022-05-12  14.48  14.38  14.56  14.33  14.696  15.445667\n2022-05-13  14.50  14.61  14.66  14.49  14.592  15.424000\n\n[7424 rows x 6 columns]",
      "text/html": "<div>\n<style scoped>\n    .dataframe tbody tr th:only-of-type {\n        vertical-align: middle;\n    }\n\n    .dataframe tbody tr th {\n        vertical-align: top;\n    }\n\n    .dataframe thead th {\n        text-align: right;\n    }\n</style>\n<table border=\"1\" class=\"dataframe\">\n  <thead>\n    <tr style=\"text-align: right;\">\n      <th></th>\n      <th>开盘</th>\n      <th>收盘</th>\n      <th>最高</th>\n      <th>最低</th>\n      <th>ma5</th>\n      <th>ma30</th>\n    </tr>\n    <tr>\n      <th>日期</th>\n      <th></th>\n      <th></th>\n      <th></th>\n      <th></th>\n      <th></th>\n      <th></th>\n    </tr>\n  </thead>\n  <tbody>\n    <tr>\n      <th>1991-04-03</th>\n      <td>49.00</td>\n      <td>49.00</td>\n      <td>49.00</td>\n      <td>49.00</td>\n      <td>NaN</td>\n      <td>NaN</td>\n    </tr>\n    <tr>\n      <th>1991-04-04</th>\n      <td>48.76</td>\n      <td>48.76</td>\n      <td>48.76</td>\n      <td>48.76</td>\n      <td>NaN</td>\n      <td>NaN</td>\n    </tr>\n    <tr>\n      <th>1991-04-05</th>\n      <td>48.52</td>\n      <td>48.52</td>\n      <td>48.52</td>\n      <td>48.52</td>\n      <td>NaN</td>\n      <td>NaN</td>\n    </tr>\n    <tr>\n      <th>1991-04-06</th>\n      <td>48.28</td>\n      <td>48.28</td>\n      <td>48.28</td>\n      <td>48.28</td>\n      <td>NaN</td>\n      <td>NaN</td>\n    </tr>\n    <tr>\n      <th>1991-04-08</th>\n      <td>48.04</td>\n      <td>48.04</td>\n      <td>48.04</td>\n      <td>48.04</td>\n      <td>48.520</td>\n      <td>NaN</td>\n    </tr>\n    <tr>\n      <th>...</th>\n      <td>...</td>\n      <td>...</td>\n      <td>...</td>\n      <td>...</td>\n      <td>...</td>\n      <td>...</td>\n    </tr>\n    <tr>\n      <th>2022-05-09</th>\n      <td>14.94</td>\n      <td>14.55</td>\n      <td>14.94</td>\n      <td>14.46</td>\n      <td>15.284</td>\n      <td>15.482333</td>\n    </tr>\n    <tr>\n      <th>2022-05-10</th>\n      <td>14.50</td>\n      <td>14.59</td>\n      <td>14.60</td>\n      <td>14.11</td>\n      <td>15.070</td>\n      <td>15.479333</td>\n    </tr>\n    <tr>\n      <th>2022-05-11</th>\n      <td>14.54</td>\n      <td>14.63</td>\n      <td>14.84</td>\n      <td>14.44</td>\n      <td>14.840</td>\n      <td>15.460333</td>\n    </tr>\n    <tr>\n      <th>2022-05-12</th>\n      <td>14.48</td>\n      <td>14.38</td>\n      <td>14.56</td>\n      <td>14.33</td>\n      <td>14.696</td>\n      <td>15.445667</td>\n    </tr>\n    <tr>\n      <th>2022-05-13</th>\n      <td>14.50</td>\n      <td>14.61</td>\n      <td>14.66</td>\n      <td>14.49</td>\n      <td>14.592</td>\n      <td>15.424000</td>\n    </tr>\n  </tbody>\n</table>\n<p>7424 rows × 6 columns</p>\n</div>"
     },
     "execution_count": 28,
     "metadata": {},
     "output_type": "execute_result"
    }
   ],
   "source": [
    "# 计算macd\n",
    "df['ma5'] = df['开盘'].rolling(5).mean()\n",
    "df['ma30'] = df['开盘'].rolling(30).mean()\n",
    "df"
   ],
   "metadata": {
    "collapsed": false,
    "pycharm": {
     "name": "#%%\n"
    }
   }
  },
  {
   "cell_type": "code",
   "execution_count": 29,
   "outputs": [
    {
     "data": {
      "text/plain": "               开盘     收盘     最高     最低     ma5       ma30\n日期                                                       \n2022-05-13  14.50  14.61  14.66  14.49  14.592  15.424000\n2022-05-12  14.48  14.38  14.56  14.33  14.696  15.445667\n2022-05-11  14.54  14.63  14.84  14.44  14.840  15.460333\n2022-05-10  14.50  14.59  14.60  14.11  15.070  15.479333\n2022-05-09  14.94  14.55  14.94  14.46  15.284  15.482333\n...           ...    ...    ...    ...     ...        ...\n2018-04-04  10.68  10.87  11.01  10.60  10.822  11.726667\n2018-04-03  10.60  10.56  10.67  10.51  10.856  11.769333\n2018-04-02  10.87  10.71  10.99  10.70  10.956  11.811667\n2018-03-30  11.04  10.90  11.05  10.88  11.012  11.842000\n2018-03-29  10.92  11.05  11.17  10.55  11.054  11.876667\n\n[1000 rows x 6 columns]",
      "text/html": "<div>\n<style scoped>\n    .dataframe tbody tr th:only-of-type {\n        vertical-align: middle;\n    }\n\n    .dataframe tbody tr th {\n        vertical-align: top;\n    }\n\n    .dataframe thead th {\n        text-align: right;\n    }\n</style>\n<table border=\"1\" class=\"dataframe\">\n  <thead>\n    <tr style=\"text-align: right;\">\n      <th></th>\n      <th>开盘</th>\n      <th>收盘</th>\n      <th>最高</th>\n      <th>最低</th>\n      <th>ma5</th>\n      <th>ma30</th>\n    </tr>\n    <tr>\n      <th>日期</th>\n      <th></th>\n      <th></th>\n      <th></th>\n      <th></th>\n      <th></th>\n      <th></th>\n    </tr>\n  </thead>\n  <tbody>\n    <tr>\n      <th>2022-05-13</th>\n      <td>14.50</td>\n      <td>14.61</td>\n      <td>14.66</td>\n      <td>14.49</td>\n      <td>14.592</td>\n      <td>15.424000</td>\n    </tr>\n    <tr>\n      <th>2022-05-12</th>\n      <td>14.48</td>\n      <td>14.38</td>\n      <td>14.56</td>\n      <td>14.33</td>\n      <td>14.696</td>\n      <td>15.445667</td>\n    </tr>\n    <tr>\n      <th>2022-05-11</th>\n      <td>14.54</td>\n      <td>14.63</td>\n      <td>14.84</td>\n      <td>14.44</td>\n      <td>14.840</td>\n      <td>15.460333</td>\n    </tr>\n    <tr>\n      <th>2022-05-10</th>\n      <td>14.50</td>\n      <td>14.59</td>\n      <td>14.60</td>\n      <td>14.11</td>\n      <td>15.070</td>\n      <td>15.479333</td>\n    </tr>\n    <tr>\n      <th>2022-05-09</th>\n      <td>14.94</td>\n      <td>14.55</td>\n      <td>14.94</td>\n      <td>14.46</td>\n      <td>15.284</td>\n      <td>15.482333</td>\n    </tr>\n    <tr>\n      <th>...</th>\n      <td>...</td>\n      <td>...</td>\n      <td>...</td>\n      <td>...</td>\n      <td>...</td>\n      <td>...</td>\n    </tr>\n    <tr>\n      <th>2018-04-04</th>\n      <td>10.68</td>\n      <td>10.87</td>\n      <td>11.01</td>\n      <td>10.60</td>\n      <td>10.822</td>\n      <td>11.726667</td>\n    </tr>\n    <tr>\n      <th>2018-04-03</th>\n      <td>10.60</td>\n      <td>10.56</td>\n      <td>10.67</td>\n      <td>10.51</td>\n      <td>10.856</td>\n      <td>11.769333</td>\n    </tr>\n    <tr>\n      <th>2018-04-02</th>\n      <td>10.87</td>\n      <td>10.71</td>\n      <td>10.99</td>\n      <td>10.70</td>\n      <td>10.956</td>\n      <td>11.811667</td>\n    </tr>\n    <tr>\n      <th>2018-03-30</th>\n      <td>11.04</td>\n      <td>10.90</td>\n      <td>11.05</td>\n      <td>10.88</td>\n      <td>11.012</td>\n      <td>11.842000</td>\n    </tr>\n    <tr>\n      <th>2018-03-29</th>\n      <td>10.92</td>\n      <td>11.05</td>\n      <td>11.17</td>\n      <td>10.55</td>\n      <td>11.054</td>\n      <td>11.876667</td>\n    </tr>\n  </tbody>\n</table>\n<p>1000 rows × 6 columns</p>\n</div>"
     },
     "execution_count": 29,
     "metadata": {},
     "output_type": "execute_result"
    }
   ],
   "source": [
    "# 选取数据范围\n",
    "df = df['2010-01-04': ]\n",
    "# 倒叙排列\n",
    "df = df[::-1]\n",
    "# 取1000个数据\n",
    "df = df[:1000]\n",
    "df"
   ],
   "metadata": {
    "collapsed": false,
    "pycharm": {
     "name": "#%%\n"
    }
   }
  },
  {
   "cell_type": "code",
   "execution_count": 30,
   "outputs": [
    {
     "name": "stderr",
     "output_type": "stream",
     "text": [
      "/Users/henrydu/miniforge3/envs/learn_stock/lib/python3.10/site-packages/IPython/core/pylabtools.py:151: UserWarning: Glyph 26085 (\\N{CJK UNIFIED IDEOGRAPH-65E5}) missing from current font.\n",
      "  fig.canvas.print_figure(bytes_io, **kw)\n",
      "/Users/henrydu/miniforge3/envs/learn_stock/lib/python3.10/site-packages/IPython/core/pylabtools.py:151: UserWarning: Glyph 26399 (\\N{CJK UNIFIED IDEOGRAPH-671F}) missing from current font.\n",
      "  fig.canvas.print_figure(bytes_io, **kw)\n",
      "/Users/henrydu/miniforge3/envs/learn_stock/lib/python3.10/site-packages/IPython/core/pylabtools.py:151: UserWarning: Glyph 25910 (\\N{CJK UNIFIED IDEOGRAPH-6536}) missing from current font.\n",
      "  fig.canvas.print_figure(bytes_io, **kw)\n",
      "/Users/henrydu/miniforge3/envs/learn_stock/lib/python3.10/site-packages/IPython/core/pylabtools.py:151: UserWarning: Glyph 30424 (\\N{CJK UNIFIED IDEOGRAPH-76D8}) missing from current font.\n",
      "  fig.canvas.print_figure(bytes_io, **kw)\n"
     ]
    },
    {
     "data": {
      "text/plain": "<Figure size 432x288 with 1 Axes>",
      "image/png": "[encoded data removed]"
     },
     "metadata": {
      "needs_background": "light"
     },
     "output_type": "display_data"
    }
   ],
   "source": [
    "# 画图\n",
    "df[['收盘', 'ma5', 'ma30']].plot()\n",
    "plt.show()"
   ],
   "metadata": {
    "collapsed": false,
    "pycharm": {
     "name": "#%%\n"
    }
   }
  },
  {
   "cell_type": "code",
   "execution_count": 31,
   "outputs": [],
   "source": [
    "# 计算金叉死叉\n",
    "sr1 = df['ma5'] < df['ma30']\n",
    "sr2 = df['ma5'] >= df['ma30']\n",
    "death_cross = df[sr1 & sr2.shift(1)].index\n",
    "golden_cross = df[~(sr1 | sr2.shift(1))].index"
   ],
   "metadata": {
    "collapsed": false,
    "pycharm": {
     "name": "#%%\n"
    }
   }
  },
  {
   "cell_type": "code",
   "execution_count": 32,
   "outputs": [
    {
     "data": {
      "text/plain": "DatetimeIndex(['2022-04-01', '2022-02-14', '2021-12-08', '2021-10-12',\n               '2021-09-10', '2021-08-16', '2021-04-21', '2021-04-02',\n               '2021-01-07', '2020-08-14', '2020-07-03', '2020-06-04',\n               '2020-04-22', '2019-12-17', '2019-09-20', '2019-09-04',\n               '2019-08-09', '2019-06-14', '2019-03-29', '2019-01-14',\n               '2018-10-17', '2018-08-23', '2018-07-25', '2018-04-23',\n               '2018-04-17'],\n              dtype='datetime64[ns]', name='日期', freq=None)"
     },
     "execution_count": 32,
     "metadata": {},
     "output_type": "execute_result"
    }
   ],
   "source": [
    "# 死叉\n",
    "death_cross"
   ],
   "metadata": {
    "collapsed": false,
    "pycharm": {
     "name": "#%%\n"
    }
   }
  },
  {
   "cell_type": "code",
   "execution_count": 33,
   "outputs": [
    {
     "data": {
      "text/plain": "DatetimeIndex(['2022-04-27', '2022-02-15', '2021-12-16', '2021-11-03',\n               '2021-09-17', '2021-08-26', '2021-06-16', '2021-04-12',\n               '2021-02-25', '2020-12-18', '2020-07-28', '2020-06-12',\n               '2020-05-25', '2020-01-21', '2019-11-13', '2019-09-17',\n               '2019-08-30', '2019-08-05', '2019-05-07', '2019-03-28',\n               '2018-11-12', '2018-10-16', '2018-08-16', '2018-05-03',\n               '2018-04-18'],\n              dtype='datetime64[ns]', name='日期', freq=None)"
     },
     "execution_count": 33,
     "metadata": {},
     "output_type": "execute_result"
    }
   ],
   "source": [
    "# 金叉\n",
    "golden_cross"
   ],
   "metadata": {
    "collapsed": false,
    "pycharm": {
     "name": "#%%\n"
    }
   }
  },
  {
   "cell_type": "code",
   "execution_count": 34,
   "outputs": [
    {
     "name": "stderr",
     "output_type": "stream",
     "text": [
      "/var/folders/hr/ppfykdg56ks4mjvczmbjkv1w0000gn/T/ipykernel_94976/2417704143.py:3: FutureWarning: The series.append method is deprecated and will be removed from pandas in a future version. Use pandas.concat instead.\n",
      "  sr = sr1.append(sr2).sort_index()\n"
     ]
    },
    {
     "data": {
      "text/plain": "日期\n2018-04-17    0\n2018-04-18    1\n2018-04-23    0\n2018-05-03    1\n2018-07-25    0\n2018-08-16    1\n2018-08-23    0\n2018-10-16    1\n2018-10-17    0\n2018-11-12    1\n2019-01-14    0\n2019-03-28    1\n2019-03-29    0\n2019-05-07    1\n2019-06-14    0\n2019-08-05    1\n2019-08-09    0\n2019-08-30    1\n2019-09-04    0\n2019-09-17    1\n2019-09-20    0\n2019-11-13    1\n2019-12-17    0\n2020-01-21    1\n2020-04-22    0\n2020-05-25    1\n2020-06-04    0\n2020-06-12    1\n2020-07-03    0\n2020-07-28    1\n2020-08-14    0\n2020-12-18    1\n2021-01-07    0\n2021-02-25    1\n2021-04-02    0\n2021-04-12    1\n2021-04-21    0\n2021-06-16    1\n2021-08-16    0\n2021-08-26    1\n2021-09-10    0\n2021-09-17    1\n2021-10-12    0\n2021-11-03    1\n2021-12-08    0\n2021-12-16    1\n2022-02-14    0\n2022-02-15    1\n2022-04-01    0\n2022-04-27    1\ndtype: int64"
     },
     "execution_count": 34,
     "metadata": {},
     "output_type": "execute_result"
    }
   ],
   "source": [
    "sr1 = pd.Series(1, index=golden_cross)\n",
    "sr2 = pd.Series(0, index=death_cross)\n",
    "sr = sr1.append(sr2).sort_index()\n",
    "sr"
   ],
   "metadata": {
    "collapsed": false,
    "pycharm": {
     "name": "#%%\n"
    }
   }
  },
  {
   "cell_type": "code",
   "execution_count": 36,
   "outputs": [
    {
     "name": "stdout",
     "output_type": "stream",
     "text": [
      "-43768.000000000015\n"
     ]
    }
   ],
   "source": [
    "# 回测\n",
    "first_money = 100000\n",
    "hold = 0\n",
    "money = first_money\n",
    "for i in range(0, len(sr)):\n",
    "    p = df['开盘'][sr.index[i]]\n",
    "    if sr.iloc[i] == 1:\n",
    "        # 金叉\n",
    "        buy = (money // (100 * p))\n",
    "        hold += buy * 100\n",
    "        money -= buy * 100 * p\n",
    "    else:\n",
    "        money += hold * p\n",
    "        hold = 0\n",
    "\n",
    "p = df['开盘'][-1]\n",
    "now_money = hold * p + money\n",
    "print(now_money - first_money)"
   ],
   "metadata": {
    "collapsed": false,
    "pycharm": {
     "name": "#%%\n"
    }
   }
  },
  {
   "cell_type": "code",
   "execution_count": 35,
   "outputs": [],
   "source": [],
   "metadata": {
    "collapsed": false,
    "pycharm": {
     "name": "#%%\n"
    }
   }
  }
 ],
 "metadata": {
  "kernelspec": {
   "display_name": "Python 3",
   "language": "python",
   "name": "python3"
  },
  "language_info": {
   "codemirror_mode": {
    "name": "ipython",
    "version": 2
   },
   "file_extension": ".py",
   "mimetype": "text/x-python",
   "name": "python",
   "nbconvert_exporter": "python",
   "pygments_lexer": "ipython2",
   "version": "2.7.6"
  }
 },
 "nbformat": 4,
 "nbformat_minor": 0
}